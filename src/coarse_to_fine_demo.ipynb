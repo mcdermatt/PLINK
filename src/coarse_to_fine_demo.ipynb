{
 "cells": [
  {
   "cell_type": "markdown",
   "id": "0d6d9553",
   "metadata": {},
   "source": [
    "# Coarse-to-Fine NeRF Training\n",
    "\n",
    "This notebook demonstrates the process through which loss is calculated for the coarse network"
   ]
  },
  {
   "cell_type": "code",
   "execution_count": null,
   "id": "55cf2524",
   "metadata": {
    "scrolled": true
   },
   "outputs": [],
   "source": [
    "from vedo import *\n",
    "from ipyvtklink.viewer import ViewInteractiveWidget\n",
    "import numpy as np\n",
    "import tensorflow as tf\n",
    "import tensorflow_probability as tfp\n",
    "from matplotlib import pyplot as p\n",
    "from nerf_utils import *\n",
    "from coarse_network_utils import *\n",
    "\n",
    "%load_ext autoreload\n",
    "%autoreload 2\n",
    "%autosave 180"
   ]
  },
  {
   "cell_type": "markdown",
   "id": "7ff4627d",
   "metadata": {},
   "source": [
    "# Calculating Loss for coarse network along a single ray"
   ]
  },
  {
   "cell_type": "code",
   "execution_count": null,
   "id": "942a9c28",
   "metadata": {},
   "outputs": [],
   "source": [
    "#generate arbitrary histogram for fine network sigma outputs\n",
    "# note how spacing of sample points is NOT uniform\n",
    "n_bins_coarse = 7\n",
    "bins_coarse = np.linspace(0,1,n_bins_coarse)\n",
    "w_coarse = np.gradient(bins_coarse)\n",
    "w_coarse[-1] = 0\n",
    "vals_coarse = abs(1/(0.6 - bins_coarse))\n",
    "vals_coarse = vals_coarse/np.sum(vals_coarse*w_coarse)\n",
    "\n",
    "#generate arbitrary coarse network output (which attempts to bound sigma vaules within its range)\n",
    "n_bins_fine = 30\n",
    "bins_fine = np.linspace(0,1,n_bins_fine)**0.5\n",
    "# bins_fine = np.sin(np.linspace(0,1,n_bins_fine))\n",
    "vals_fine = abs(1/((0.6 - bins_fine)*(0.9 - bins_fine)))\n",
    "w_fine = np.diff(bins_fine)\n",
    "w_fine = np.append(w_fine, 0)\n",
    "vals_fine = vals_fine/np.sum(vals_fine*w_fine)\n",
    "\n",
    "fig, ax = p.subplots()\n",
    "ax.bar(bins_coarse+w_coarse/2, vals_coarse , width = w_coarse, \n",
    "       color ='red', edgecolor = 'black', label = \"coarse output (normalized)\", alpha = 0.5);\n",
    "ax.bar(bins_fine+w_fine/2, vals_fine, width = w_fine, color = 'blue', \n",
    "       label = \"fine network density\", edgecolor = 'black', alpha = 0.5);\n",
    "ax.scatter(bins_coarse, vals_coarse, color = 'red')\n",
    "ax.scatter(bins_fine, vals_fine, color = 'blue')\n",
    "ax.set_xlabel(\"s\")\n",
    "ax.set_ylabel(\"$\\sigma$(s)\")\n",
    "ax.legend(loc=\"upper left\")"
   ]
  },
  {
   "cell_type": "code",
   "execution_count": null,
   "id": "a516b8a9",
   "metadata": {},
   "outputs": [],
   "source": [
    "#Calculate loss for a given region in the coarse histogram\n",
    "L = np.zeros(len(bins_coarse))\n",
    "for i in range(len(bins_coarse) - 1):\n",
    "    #get sample locations in fine distribution that fall within bin i of coarse distribution\n",
    "    small_enough_idx = np.where(bins_fine < bins_coarse[i+1])\n",
    "    big_enough_idx = np.where(bins_fine >= bins_coarse[i])\n",
    "    idx_in_range = np.intersect1d(small_enough_idx, big_enough_idx)\n",
    "\n",
    "    fine_in_bin = np.sum(vals_fine[idx_in_range]*w_fine[idx_in_range])\n",
    "    L[i] = max(0, fine_in_bin -  vals_coarse[i]*w_coarse[i])\n",
    "    print(\"L[i]\", L[i])\n",
    "print(np.sum(L))\n",
    "\n",
    "fig, ax = p.subplots()\n",
    "ax.bar(bins_coarse+w_coarse/2, vals_coarse , width = w_coarse, \n",
    "       color ='red', edgecolor = 'black', label = \"coarse output (normalized)\", alpha = 0.5, hatch = '\\\\');\n",
    "ax.bar(bins_fine+w_fine/2, vals_fine, width = w_fine, color = 'blue', \n",
    "       label = \"fine network density\", edgecolor = 'black', alpha = 0.5);\n",
    "\n",
    "ax.bar(bins_coarse+w_coarse/2, L/w_coarse, bottom= vals_coarse, \n",
    "       width = w_coarse, color = 'orange', alpha = 0.5, label = \"coarse network loss\",\n",
    "       hatch='/', edgecolor = 'black')\n",
    "ax.set_xlabel(\"s\")\n",
    "ax.set_ylabel(\"$\\sigma$(s)\")\n",
    "ax.legend(loc=\"upper left\")"
   ]
  },
  {
   "cell_type": "markdown",
   "id": "02be6dbd",
   "metadata": {},
   "source": [
    "# Recreating the above process in parallel using tensorflow\n",
    "When training our NeRF, we batch rays in \"patches\" that consist of cropped depth scans of size [H,W]. \n",
    "We use tensorflow to do the above loss calculation in parallel for each ray in a patch at once"
   ]
  },
  {
   "cell_type": "code",
   "execution_count": null,
   "id": "1e20ec24",
   "metadata": {},
   "outputs": [],
   "source": [
    "#make arbitrary fine distributions (what the fine netork produces in its representation of the scene)\n",
    "#  these vary in inferred density as well as sampling location\n",
    "H = 64\n",
    "W = 8\n",
    "n_bins_fine = 64\n",
    "n_bins_coarse = 8\n",
    "\n",
    "#create random sinusoidal peaks\n",
    "randy = np.pi*tf.random.uniform([H,W, 2])\n",
    "randy2 = np.pi*tf.cast(tf.random.uniform([H,W, 2]),tf.float32) \n",
    "\n",
    "# print(np.shape(randy))\n",
    "lin = tf.cast(tf.linspace(0,1,n_bins_fine), tf.float32)\n",
    "lin = tf.tile(lin[None,None,:,None], [H,W,1,1])\n",
    "weights_fine = (tf.math.sin(randy[...,:1,None]*np.pi*lin + randy[...,1:2,None]) +1)/2\n",
    "\n",
    "z_vals_coarse = tf.cast(tf.linspace(0,1,n_bins_coarse), tf.float32)\n",
    "# Also works for nonlinear z values for coarse network\n",
    "# z_vals_coarse = z_vals_coarse**2 \n",
    "# z_vals_coarse = tf.math.sin(z_vals_coarse)\n",
    "z_vals_coarse = tf.tile(z_vals_coarse[None,None,:,None], [H,W,1,1])\n",
    "weights_coarse = (tf.math.sin(randy[...,:1,None]*np.pi*z_vals_coarse + randy[...,1:2,None]) +1)/2\n",
    "weights_coarse = weights_coarse/tf.math.reduce_sum(weights_coarse, axis = 2)[:,:,:,None] #normalize to sum to 1\n",
    "\n",
    "w_coarse = tf.experimental.numpy.diff(z_vals_coarse, axis = 2)\n",
    "padding_config = [[0, 0],[0, 0],[0, 1],[0, 0]]\n",
    "w_coarse = tf.pad(w_coarse, padding_config, constant_values=0.001)\n",
    "\n",
    "#init z_vals [h, w, n_samples, 1]\n",
    "#create inconsistant spacing for z vals in fine rays\n",
    "z_vals_fine = (tf.math.sin(3*np.pi*randy2[...,:1,None]*lin + randy2[...,1:,None]) + 2 ) /3\n",
    "z_vals_fine = tf.cumsum(z_vals_fine, axis = -2)\n",
    "z_vals_fine -= z_vals_fine[:,:,:1,:]\n",
    "z_vals_fine /= z_vals_fine[:,:,-1:,:]\n",
    "\n",
    "w_fine = tf.experimental.numpy.diff(z_vals_fine, axis = 2)\n",
    "padding_config = [[0, 0],[0, 0],[0, 1],[0, 0]]\n",
    "w_fine = tf.pad(w_fine, padding_config, constant_values=0.001)\n",
    "\n",
    "#shift z_vals def to the center\n",
    "z_vals_coarse = z_vals_coarse + w_coarse/2 \n",
    "z_vals_fine = z_vals_fine + w_fine/2 \n",
    "\n",
    "#correct weights so area under the curve is 1\n",
    "area_fine = tf.math.reduce_sum(weights_fine * w_fine, axis = 2)[:,:,:,None]\n",
    "weights_fine = weights_fine/area_fine\n",
    "# print(tf.math.reduce_sum(weights_fine*w_fine, axis = 2))\n",
    "\n",
    "area_coarse = tf.math.reduce_sum(weights_coarse * w_coarse, axis =2)[:,:,:,None]\n",
    "weights_coarse = weights_coarse/area_coarse\n",
    "# print(tf.math.reduce_sum(weights_coarse*w_coarse, axis = 2))"
   ]
  },
  {
   "cell_type": "code",
   "execution_count": null,
   "id": "e05d38c8",
   "metadata": {},
   "outputs": [],
   "source": [
    "look_at = 0 #select height index of ray in patch to look at\n",
    "\n",
    "# #left riemann sums\n",
    "# zc = z_vals_coarse[look_at,0,:,0] \n",
    "# zf = z_vals_fine[look_at,0,:,0]\n",
    "#shift for centered riemann sums\n",
    "zc = z_vals_coarse[look_at,0,:,0] - w_coarse[look_at,0,:,0]/2 \n",
    "zf = z_vals_fine[look_at,0,:,0]\n",
    "\n",
    "#get index of which bin in coarse each bar in fine belongs inside of\n",
    "indices = tf.searchsorted(zc, zf, side='right')-1\n",
    "\n",
    "#need to scale L_i by width of coarse bins\n",
    "fine_sum = tf.math.segment_sum(weights_fine[look_at,0,:,0]*w_fine[look_at,0,:,0], indices)/w_coarse[look_at,0,:,0]\n",
    "\n",
    "mask = tf.cast(fine_sum > weights_coarse[look_at,0,:,0], tf.float32)\n",
    "L_i = tf.math.reduce_sum((mask*(fine_sum-weights_coarse[look_at,0,:,0])*w_coarse[look_at,0,:,0]))\n",
    "print(\"Loss of coarse network:\", L_i)\n",
    "\n",
    "fig, ax = p.subplots()\n",
    "ax.scatter(z_vals_coarse[look_at,0,:,0],  weights_coarse[look_at,0,:,0], color  = 'green')\n",
    "ax.scatter(z_vals_fine[look_at,0,:,0],  weights_fine[look_at,0,:,0], color = 'orange')\n",
    "ax.bar(z_vals_coarse[look_at,0,:,0], weights_coarse[look_at,0,:,0], \n",
    "       width = w_coarse[look_at,0,:,0],label = \"predicted ouput of fine network\", edgecolor = 'black', \n",
    "       alpha = 0.5, hatch = '\\\\', color = 'green');\n",
    "ax.bar(z_vals_fine[look_at,0,:,0], weights_fine[look_at,0,:,0], width = w_fine[look_at,0,:,0], \n",
    "   label = \"output of fine network\", alpha = 0.5, color = 'orange') #, edgecolor = 'black');\n",
    "ax.bar(z_vals_coarse[look_at,0,:,0], fine_sum, width = w_coarse[look_at,0,:,0], \n",
    "   label = \"fine output in coarse bins\", color = \"blue\", edgecolor = 'black', hatch = '//', alpha = 0.2);\n",
    "L_along_ray = mask*((fine_sum-weights_coarse[look_at,0,:,0])) #don't scale (for plotting only)\n",
    "ax.bar(z_vals_coarse[look_at,0,:,0], L_along_ray,\n",
    "       width = w_coarse[look_at,0,:,0], bottom = weights_coarse[look_at,0,:,0] ,\n",
    "       label = \"loss of coarse network\", color = 'red', edgecolor = 'black', alpha = 0.35);\n",
    "\n",
    "ax.set_xlabel(\"s\")\n",
    "ax.set_ylabel(\"$\\sigma$(s)\")\n",
    "ax.legend(loc = 'best');"
   ]
  },
  {
   "cell_type": "code",
   "execution_count": null,
   "id": "fa30efc1",
   "metadata": {},
   "outputs": [],
   "source": [
    "from coarse_network_utils import * \n",
    "\n",
    "loss_coarse = calculate_loss_coarse_network(z_vals_coarse[:,:,:,0], z_vals_fine[:,:,:,0], \n",
    "                                     weights_coarse[:,:,:,0], weights_fine[:,:,:,0],\n",
    "                                     w_coarse[:,:,:,0], w_fine[:,:,:,0] )\n",
    "print(\"loss of coarse network using parallel function \\n (should be the same as above): \\n \\n\",\n",
    "      loss_coarse[look_at,0], \"\\n\", np.shape(loss_coarse))"
   ]
  },
  {
   "cell_type": "markdown",
   "id": "571387a3",
   "metadata": {},
   "source": [
    "# Upsampling from coarse to fine distribution\n",
    "\n",
    "Using the histograms output by the coarse network for each ray in a \"patch\" resample canidate points to be passed to the fine network"
   ]
  },
  {
   "cell_type": "code",
   "execution_count": null,
   "id": "a42dd83b",
   "metadata": {
    "scrolled": false
   },
   "outputs": [],
   "source": [
    "from coarse_network_utils import resample_z_vals\n",
    "\n",
    "rc = False #guarentee coarse sample locations are a subset of fine samples \n",
    "continuous_samples, width_z = resample_z_vals(z_vals_coarse - w_coarse/2, weights_coarse, \n",
    "                                              w_coarse, n_resample=128, repeat_coarse=rc)\n",
    "\n",
    "look_at = 0\n",
    "fig, ax = p.subplots()\n",
    "ax.bar(z_vals_coarse[look_at,0,:,0], weights_coarse[look_at,0,:,0], \n",
    "       width = w_coarse[look_at,0,:,0], label = \"coarse network output\", edgecolor = 'black', alpha = 0.5);\n",
    "ax.scatter(continuous_samples[look_at,0,:], tf.zeros_like(continuous_samples[look_at,0,:]), \n",
    "           alpha = 0.5, label = \"sampled points\");\n",
    "ax.set_xlabel('s')\n",
    "ax.set_ylabel('$\\sigma$(s)')\n",
    "ax.legend(loc = 'best');\n",
    "\n",
    "# ax.plot(z_vals_fine[look_at,0,:,0], weights_fine[look_at,0,:]) #see curve used to generate coarse histograms"
   ]
  },
  {
   "cell_type": "code",
   "execution_count": null,
   "id": "4bce8297",
   "metadata": {},
   "outputs": [],
   "source": []
  },
  {
   "cell_type": "code",
   "execution_count": null,
   "id": "9112f803",
   "metadata": {},
   "outputs": [],
   "source": []
  }
 ],
 "metadata": {
  "kernelspec": {
   "display_name": "Python 3 (ipykernel)",
   "language": "python",
   "name": "python3"
  },
  "language_info": {
   "codemirror_mode": {
    "name": "ipython",
    "version": 3
   },
   "file_extension": ".py",
   "mimetype": "text/x-python",
   "name": "python",
   "nbconvert_exporter": "python",
   "pygments_lexer": "ipython3",
   "version": "3.8.10"
  }
 },
 "nbformat": 4,
 "nbformat_minor": 5
}
